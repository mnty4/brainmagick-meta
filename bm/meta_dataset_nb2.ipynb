{
 "cells": [
  {
   "cell_type": "code",
   "execution_count": 2,
   "metadata": {},
   "outputs": [],
   "source": [
    "%load_ext autoreload\n",
    "%autoreload 2"
   ]
  },
  {
   "cell_type": "code",
   "execution_count": null,
   "metadata": {},
   "outputs": [
    {
     "name": "stderr",
     "output_type": "stream",
     "text": [
      "Hostname lukas-B550-AORUS-ELITE-AX-V2 not defined in /conf/study_paths/study_paths.yaml. Using default paths.\n",
      "/home/lukas/anaconda3/envs/brainmagick/lib/python3.8/site-packages/tqdm/auto.py:21: TqdmWarning: IProgress not found. Please update jupyter and ipywidgets. See https://ipywidgets.readthedocs.io/en/stable/user_install.html\n",
      "  from .autonotebook import tqdm as notebook_tqdm\n",
      "Hostname lukas-B550-AORUS-ELITE-AX-V2 not defined in /conf/study_paths/study_paths.yaml. Using default paths.\n"
     ]
    },
    {
     "name": "stdout",
     "output_type": "stream",
     "text": [
      "/home/lukas/projects/brainmagick\n",
      "hello there good sir.\n",
      "self.folder is  /home/lukas/projects/brainmagick/data/gwilliams2022\n",
      "self.folder is  /home/lukas/projects/brainmagick/data/gwilliams2022\n",
      "self.folder is  /home/lukas/projects/brainmagick/data/gwilliams2022\n",
      "self.folder is  /home/lukas/projects/brainmagick/data/gwilliams2022\n",
      "Opening raw data file /home/lukas/projects/brainmagick/cache/studies/gwilliams2022/01_session0_story0/meg-sr120-hp0-raw.fif...\n",
      "Isotrak not found\n",
      "    Range : 0 ... 47519 =      0.000 ...   395.992 secs\n",
      "Ready.\n",
      "Opening raw data file /home/lukas/projects/brainmagick/cache/studies/gwilliams2022/01_session0_story1/meg-sr120-hp0-raw.fif...\n",
      "Isotrak not found\n",
      "    Range : 0 ... 85919 =      0.000 ...   715.992 secs\n",
      "Ready.\n",
      "Opening raw data file /home/lukas/projects/brainmagick/cache/studies/gwilliams2022/01_session0_story2/meg-sr120-hp0-raw.fif...\n",
      "Isotrak not found\n",
      "    Range : 0 ... 143039 =      0.000 ...  1191.992 secs\n",
      "Ready.\n",
      "Opening raw data file /home/lukas/projects/brainmagick/cache/studies/gwilliams2022/01_session0_story3/meg-sr120-hp0-raw.fif...\n",
      "Isotrak not found\n",
      "    Range : 0 ... 224279 =      0.000 ...  1868.992 secs\n",
      "Ready.\n",
      "[Gwilliams2022Recording('01_session0_story0'), Gwilliams2022Recording('01_session0_story1'), Gwilliams2022Recording('01_session0_story2'), Gwilliams2022Recording('01_session0_story3')]\n",
      "self.folder is  /home/lukas/projects/brainmagick/data/gwilliams2022\n",
      "Extracting SQD Parameters from /home/lukas/projects/brainmagick/data/gwilliams2022/download/sub-01/ses-0/meg/sub-01_ses-0_task-0_meg.con...\n",
      "Creating Raw.info structure...\n",
      "Setting channel info structure...\n",
      "Creating Info structure...\n",
      "Ready.\n",
      "Reading events from /home/lukas/projects/brainmagick/data/gwilliams2022/download/sub-01/ses-0/meg/sub-01_ses-0_task-0_events.tsv.\n",
      "Reading channel info from /home/lukas/projects/brainmagick/data/gwilliams2022/download/sub-01/ses-0/meg/sub-01_ses-0_task-0_channels.tsv.\n",
      "The stimulus channel \"STI 014\" is present in the raw data, but not included in channels.tsv. Removing the channel.\n",
      "NOTE: pick_types() is a legacy function. New code should use inst.pick(...).\n",
      "self.folder is  /home/lukas/projects/brainmagick/data/gwilliams2022\n",
      "Extracting SQD Parameters from /home/lukas/projects/brainmagick/data/gwilliams2022/download/sub-01/ses-0/meg/sub-01_ses-0_task-1_meg.con...\n",
      "Creating Raw.info structure...\n",
      "Setting channel info structure...\n",
      "Creating Info structure...\n",
      "Ready.\n",
      "Reading events from /home/lukas/projects/brainmagick/data/gwilliams2022/download/sub-01/ses-0/meg/sub-01_ses-0_task-1_events.tsv.\n"
     ]
    },
    {
     "name": "stderr",
     "output_type": "stream",
     "text": [
      "/home/lukas/projects/brainmagick/bm/studies/gwilliams2022.py:106: RuntimeWarning: The unit for channel(s) MISC 001, MISC 002, MISC 003, MISC 004, MISC 005, MISC 006, MISC 007, MISC 008, MISC 009, MISC 010, MISC 011, MISC 012, MISC 013, MISC 014, MISC 015, MISC 016, MISC 017, MISC 018, MISC 019, MISC 020, MISC 021, MISC 022, MISC 023, MISC 024, MISC 025, MISC 026, MISC 027, MISC 028, MISC 029, MISC 030, MISC 031, MISC 032 has changed from V to NA.\n",
      "  raw = read_raw_bids(bids_path)  # FIXME this is NOT a lazy read\n"
     ]
    },
    {
     "name": "stdout",
     "output_type": "stream",
     "text": [
      "Reading channel info from /home/lukas/projects/brainmagick/data/gwilliams2022/download/sub-01/ses-0/meg/sub-01_ses-0_task-1_channels.tsv.\n",
      "The stimulus channel \"STI 014\" is present in the raw data, but not included in channels.tsv. Removing the channel.\n",
      "NOTE: pick_types() is a legacy function. New code should use inst.pick(...).\n",
      "self.folder is  /home/lukas/projects/brainmagick/data/gwilliams2022\n",
      "Extracting SQD Parameters from /home/lukas/projects/brainmagick/data/gwilliams2022/download/sub-01/ses-0/meg/sub-01_ses-0_task-2_meg.con...\n",
      "Creating Raw.info structure...\n",
      "Setting channel info structure...\n",
      "Creating Info structure...\n",
      "Ready.\n",
      "Reading events from /home/lukas/projects/brainmagick/data/gwilliams2022/download/sub-01/ses-0/meg/sub-01_ses-0_task-2_events.tsv.\n"
     ]
    },
    {
     "name": "stderr",
     "output_type": "stream",
     "text": [
      "/home/lukas/projects/brainmagick/bm/studies/gwilliams2022.py:106: RuntimeWarning: The unit for channel(s) MISC 001, MISC 002, MISC 003, MISC 004, MISC 005, MISC 006, MISC 007, MISC 008, MISC 009, MISC 010, MISC 011, MISC 012, MISC 013, MISC 014, MISC 015, MISC 016, MISC 017, MISC 018, MISC 019, MISC 020, MISC 021, MISC 022, MISC 023, MISC 024, MISC 025, MISC 026, MISC 027, MISC 028, MISC 029, MISC 030, MISC 031, MISC 032 has changed from V to NA.\n",
      "  raw = read_raw_bids(bids_path)  # FIXME this is NOT a lazy read\n"
     ]
    },
    {
     "name": "stdout",
     "output_type": "stream",
     "text": [
      "Reading channel info from /home/lukas/projects/brainmagick/data/gwilliams2022/download/sub-01/ses-0/meg/sub-01_ses-0_task-2_channels.tsv.\n",
      "The stimulus channel \"STI 014\" is present in the raw data, but not included in channels.tsv. Removing the channel.\n",
      "NOTE: pick_types() is a legacy function. New code should use inst.pick(...).\n",
      "self.folder is  /home/lukas/projects/brainmagick/data/gwilliams2022\n",
      "Extracting SQD Parameters from /home/lukas/projects/brainmagick/data/gwilliams2022/download/sub-01/ses-0/meg/sub-01_ses-0_task-3_meg.con...\n",
      "Creating Raw.info structure...\n",
      "Setting channel info structure...\n",
      "Creating Info structure...\n",
      "Ready.\n",
      "Reading events from /home/lukas/projects/brainmagick/data/gwilliams2022/download/sub-01/ses-0/meg/sub-01_ses-0_task-3_events.tsv.\n"
     ]
    },
    {
     "name": "stderr",
     "output_type": "stream",
     "text": [
      "/home/lukas/projects/brainmagick/bm/studies/gwilliams2022.py:106: RuntimeWarning: The unit for channel(s) MISC 001, MISC 002, MISC 003, MISC 004, MISC 005, MISC 006, MISC 007, MISC 008, MISC 009, MISC 010, MISC 011, MISC 012, MISC 013, MISC 014, MISC 015, MISC 016, MISC 017, MISC 018, MISC 019, MISC 020, MISC 021, MISC 022, MISC 023, MISC 024, MISC 025, MISC 026, MISC 027, MISC 028, MISC 029, MISC 030, MISC 031, MISC 032 has changed from V to NA.\n",
      "  raw = read_raw_bids(bids_path)  # FIXME this is NOT a lazy read\n"
     ]
    }
   ],
   "source": [
    "from bm import meta_dataset\n",
    "from pathlib import Path\n",
    "import bm\n",
    "import sys\n",
    "import os\n",
    "from hydra import initialize, compose\n",
    "import hydra\n",
    "hydra.core.global_hydra.GlobalHydra.instance().clear()\n",
    "\n",
    "sys.argv=['self.py']\n",
    "\n",
    "os.chdir(Path(bm.__file__).parent.parent)\n",
    "print(os.getcwd())\n",
    "with initialize(version_base=\"1.1\", config_path=\"conf\"):\n",
    "    cfg = compose(config_name=\"config.yaml\", overrides=['+HYDRA_FULL_ERROR=1'])\n",
    "    dset = meta_dataset.main(cfg)"
   ]
  },
  {
   "cell_type": "code",
   "execution_count": null,
   "metadata": {},
   "outputs": [],
   "source": [
    "dset"
   ]
  }
 ],
 "metadata": {
  "kernelspec": {
   "display_name": "brainmagick",
   "language": "python",
   "name": "python3"
  },
  "language_info": {
   "codemirror_mode": {
    "name": "ipython",
    "version": 3
   },
   "file_extension": ".py",
   "mimetype": "text/x-python",
   "name": "python",
   "nbconvert_exporter": "python",
   "pygments_lexer": "ipython3",
   "version": "3.8.19"
  }
 },
 "nbformat": 4,
 "nbformat_minor": 2
}
